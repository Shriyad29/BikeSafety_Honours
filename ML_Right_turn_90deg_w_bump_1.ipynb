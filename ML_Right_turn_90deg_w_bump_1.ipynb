{
  "nbformat": 4,
  "nbformat_minor": 0,
  "metadata": {
    "colab": {
      "provenance": []
    },
    "kernelspec": {
      "name": "python3",
      "display_name": "Python 3"
    },
    "language_info": {
      "name": "python"
    }
  },
  "cells": [
    {
      "cell_type": "code",
      "execution_count": 235,
      "metadata": {
        "id": "cSjO7eBo27RY"
      },
      "outputs": [],
      "source": [
        "import pandas as pd\n",
        "from sklearn.ensemble import RandomForestClassifier\n",
        "import matplotlib.pyplot as plt\n",
        "import seaborn as sn\n",
        "from sklearn.metrics import confusion_matrix\n",
        "from sklearn.model_selection import train_test_split\n",
        "from sklearn.metrics import accuracy_score\n",
        "from sklearn.svm import SVC\n",
        "from sklearn.preprocessing import StandardScaler"
      ]
    },
    {
      "cell_type": "code",
      "source": [
        "train_data = pd.DataFrame(pd.read_excel(\"Right_turn_90deg_w_bump #1_train.xlsx\"))\n",
        "test_data = pd.DataFrame(pd.read_excel(\"Right_turn_90deg_w_bump #1_test.xlsx\"))"
      ],
      "metadata": {
        "id": "aFRMnKJf2_9X"
      },
      "execution_count": 236,
      "outputs": []
    },
    {
      "cell_type": "code",
      "source": [
        "train_data = train_data.drop(['Unnamed: 0','Time'], axis = 1)\n",
        "test_data = test_data.drop(['Unnamed: 0','Time'], axis = 1)"
      ],
      "metadata": {
        "id": "Xu57zSkc3ffQ"
      },
      "execution_count": 237,
      "outputs": []
    },
    {
      "cell_type": "markdown",
      "source": [
        "Train and test"
      ],
      "metadata": {
        "id": "mnAB8P5tGVhF"
      }
    },
    {
      "cell_type": "code",
      "source": [
        "Y_train,Y_test = train_data['Label'],test_data['Label']\n",
        "X_train,X_test = train_data[['Ax','Ay','Az','Gx','Gy','Gz']],test_data[['Ax','Ay','Az','Gx','Gy','Gz']]"
      ],
      "metadata": {
        "id": "9IjcYKlZ3__k"
      },
      "execution_count": 238,
      "outputs": []
    },
    {
      "cell_type": "markdown",
      "source": [
        "CV"
      ],
      "metadata": {
        "id": "a2AinSncGYgh"
      }
    },
    {
      "cell_type": "code",
      "source": [
        "x_train, x_test, y_train, y_test = train_test_split(X_train,Y_train, test_size=0.2)"
      ],
      "metadata": {
        "id": "DH9FXE0RC6NR"
      },
      "execution_count": 239,
      "outputs": []
    },
    {
      "cell_type": "markdown",
      "source": [
        "## Random forest"
      ],
      "metadata": {
        "id": "-3jrg4cyCOHn"
      }
    },
    {
      "cell_type": "code",
      "source": [
        "rf_model = RandomForestClassifier(n_estimators=150, max_depth=3, random_state=0)"
      ],
      "metadata": {
        "id": "DpdUwclM7rFA"
      },
      "execution_count": 240,
      "outputs": []
    },
    {
      "cell_type": "code",
      "source": [
        "rf_model.fit(x_train, y_train)"
      ],
      "metadata": {
        "colab": {
          "base_uri": "https://localhost:8080/"
        },
        "id": "jJdwJCVu8Hez",
        "outputId": "6155fe22-6bec-42e7-e151-8ba038850bb7"
      },
      "execution_count": 241,
      "outputs": [
        {
          "output_type": "execute_result",
          "data": {
            "text/plain": [
              "RandomForestClassifier(max_depth=3, n_estimators=150, random_state=0)"
            ]
          },
          "metadata": {},
          "execution_count": 241
        }
      ]
    },
    {
      "cell_type": "markdown",
      "source": [
        "on cv"
      ],
      "metadata": {
        "id": "oUBTKFLqGawf"
      }
    },
    {
      "cell_type": "code",
      "source": [
        "y_predicted = rf_model.predict(x_test)"
      ],
      "metadata": {
        "id": "RdPnAJtS8Lpk"
      },
      "execution_count": 242,
      "outputs": []
    },
    {
      "cell_type": "code",
      "source": [
        "rf_model.score(x_test, y_test)"
      ],
      "metadata": {
        "colab": {
          "base_uri": "https://localhost:8080/"
        },
        "id": "5kO4r1OM8PCb",
        "outputId": "dc751cfb-7add-4700-ea64-5e52e731cf0a"
      },
      "execution_count": 243,
      "outputs": [
        {
          "output_type": "execute_result",
          "data": {
            "text/plain": [
              "0.9664179104477612"
            ]
          },
          "metadata": {},
          "execution_count": 243
        }
      ]
    },
    {
      "cell_type": "markdown",
      "source": [
        "on Test"
      ],
      "metadata": {
        "id": "ylMVbQTRGcuX"
      }
    },
    {
      "cell_type": "code",
      "source": [
        "y_predicted_test = rf_model.predict(X_test)\n",
        "rf_model.score(X_test, Y_test)"
      ],
      "metadata": {
        "colab": {
          "base_uri": "https://localhost:8080/"
        },
        "id": "x6spItIUFIXZ",
        "outputId": "39361132-8587-44f5-a588-49864ef79250"
      },
      "execution_count": 244,
      "outputs": [
        {
          "output_type": "execute_result",
          "data": {
            "text/plain": [
              "0.9233038348082596"
            ]
          },
          "metadata": {},
          "execution_count": 244
        }
      ]
    },
    {
      "cell_type": "code",
      "source": [
        "#print(y_predicted_test)"
      ],
      "metadata": {
        "id": "WwgaMUC4WiRF"
      },
      "execution_count": 245,
      "outputs": []
    },
    {
      "cell_type": "markdown",
      "source": [
        "## KNN Classifier"
      ],
      "metadata": {
        "id": "KADQ3MbUCCbw"
      }
    },
    {
      "cell_type": "markdown",
      "source": [
        "on cv"
      ],
      "metadata": {
        "id": "Fs-TYmHpGe_M"
      }
    },
    {
      "cell_type": "code",
      "source": [
        "from sklearn.neighbors import KNeighborsClassifier\n",
        "knn = KNeighborsClassifier(n_neighbors=7)\n",
        "knn.fit(x_train,y_train)\n",
        "y_predicted_knn = knn.predict(x_test)\n",
        "knn.score(x_test, y_test)"
      ],
      "metadata": {
        "colab": {
          "base_uri": "https://localhost:8080/"
        },
        "id": "HEw9wJYT-Ia9",
        "outputId": "52325994-b262-4b8b-cca1-42b1ef283806"
      },
      "execution_count": 246,
      "outputs": [
        {
          "output_type": "execute_result",
          "data": {
            "text/plain": [
              "0.9701492537313433"
            ]
          },
          "metadata": {},
          "execution_count": 246
        }
      ]
    },
    {
      "cell_type": "markdown",
      "source": [
        "on Test"
      ],
      "metadata": {
        "id": "ecTlomfBGf-t"
      }
    },
    {
      "cell_type": "code",
      "source": [
        "y_predicted_test = knn.predict(X_test)\n",
        "knn.score(X_test, Y_test)"
      ],
      "metadata": {
        "colab": {
          "base_uri": "https://localhost:8080/"
        },
        "id": "uwDOEZDVFq4H",
        "outputId": "936f42ac-08b0-450c-cef9-2e2e1be1fa42"
      },
      "execution_count": 247,
      "outputs": [
        {
          "output_type": "execute_result",
          "data": {
            "text/plain": [
              "0.9056047197640118"
            ]
          },
          "metadata": {},
          "execution_count": 247
        }
      ]
    },
    {
      "cell_type": "code",
      "source": [
        "plt.figure(figsize=(10, 7))\n",
        "class_labels = [ 'BUMP', 'CRASH', 'RIGHT',  'STOP', 'STRAIGHT']\n",
        "cm = confusion_matrix(knn.predict(X_test), Y_test)\n",
        "sn.heatmap(cm,  xticklabels = class_labels, yticklabels = class_labels, annot = True, linewidths = 0.1, fmt='d', cmap = 'YlGnBu')\n",
        "plt.xlabel('Predicted')\n",
        "plt.ylabel('Truth')"
      ],
      "metadata": {
        "colab": {
          "base_uri": "https://localhost:8080/",
          "height": 460
        },
        "id": "JBxJTZX4FsiW",
        "outputId": "f7b633ec-1a6b-4c95-ceaa-d2c30e301f3f"
      },
      "execution_count": 248,
      "outputs": [
        {
          "output_type": "execute_result",
          "data": {
            "text/plain": [
              "Text(69.0, 0.5, 'Truth')"
            ]
          },
          "metadata": {},
          "execution_count": 248
        },
        {
          "output_type": "display_data",
          "data": {
            "text/plain": [
              "<Figure size 720x504 with 2 Axes>"
            ],
            "image/png": "[encoded data removed]"
          },
          "metadata": {
            "needs_background": "light"
          }
        }
      ]
    },
    {
      "cell_type": "markdown",
      "source": [
        "## SVM"
      ],
      "metadata": {
        "id": "X6otz-F8Clb6"
      }
    },
    {
      "cell_type": "code",
      "source": [
        "svm_model = SVC(C =150 ,kernel = 'rbf')\n",
        "svm_model.fit(x_train, y_train)\n",
        "svm_model.score(x_test, y_test)"
      ],
      "metadata": {
        "colab": {
          "base_uri": "https://localhost:8080/"
        },
        "id": "HxgA__3cCqtQ",
        "outputId": "a1aca394-3303-4349-dca9-a72fee12d990"
      },
      "execution_count": 254,
      "outputs": [
        {
          "output_type": "execute_result",
          "data": {
            "text/plain": [
              "0.9850746268656716"
            ]
          },
          "metadata": {},
          "execution_count": 254
        }
      ]
    },
    {
      "cell_type": "code",
      "source": [
        "Y_predicted = svm_model.predict(X_test)\n",
        "svm_model.score(X_test,Y_test)"
      ],
      "metadata": {
        "colab": {
          "base_uri": "https://localhost:8080/"
        },
        "id": "ZGmoJYNtisTO",
        "outputId": "bf51113c-998c-416b-a171-a4a155a114ba"
      },
      "execution_count": 255,
      "outputs": [
        {
          "output_type": "execute_result",
          "data": {
            "text/plain": [
              "0.8938053097345132"
            ]
          },
          "metadata": {},
          "execution_count": 255
        }
      ]
    }
  ]
}