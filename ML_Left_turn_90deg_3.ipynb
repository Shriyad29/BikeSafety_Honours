{
  "nbformat": 4,
  "nbformat_minor": 0,
  "metadata": {
    "colab": {
      "provenance": []
    },
    "kernelspec": {
      "name": "python3",
      "display_name": "Python 3"
    },
    "language_info": {
      "name": "python"
    }
  },
  "cells": [
    {
      "cell_type": "code",
      "execution_count": 90,
      "metadata": {
        "id": "YuyxdLquVbhR"
      },
      "outputs": [],
      "source": [
        "import pandas as pd\n",
        "from sklearn.ensemble import RandomForestClassifier\n",
        "import matplotlib.pyplot as plt\n",
        "import seaborn as sn\n",
        "from sklearn.metrics import confusion_matrix\n",
        "from sklearn.model_selection import train_test_split\n",
        "from sklearn.metrics import accuracy_score\n",
        "from sklearn.svm import SVC\n",
        "from sklearn.preprocessing import StandardScaler"
      ]
    },
    {
      "cell_type": "code",
      "source": [
        "train_data = pd.DataFrame(pd.read_excel(\"Left_turn_90deg #3_train.xlsx\"))\n",
        "test_data = pd.DataFrame(pd.read_excel(\"Left_turn_90deg #3_test.xlsx\"))"
      ],
      "metadata": {
        "id": "3yfaDdyHVfLh"
      },
      "execution_count": 91,
      "outputs": []
    },
    {
      "cell_type": "code",
      "source": [
        "train_data = train_data.drop(['Unnamed: 0','Time'], axis = 1)\n",
        "test_data = test_data.drop(['Unnamed: 0','Time'], axis = 1)"
      ],
      "metadata": {
        "id": "UzzG-xK3Vh5-"
      },
      "execution_count": 92,
      "outputs": []
    },
    {
      "cell_type": "markdown",
      "source": [
        "# Rf"
      ],
      "metadata": {
        "id": "CEYZNROqAnHr"
      }
    },
    {
      "cell_type": "code",
      "source": [
        "Y_train,Y_test = train_data['Label'],test_data['Label']\n",
        "X_train,X_test = train_data[['Ax','Ay','Az','Gx','Gy','Gz']],test_data[['Ax','Ay','Az','Gx','Gy','Gz']]"
      ],
      "metadata": {
        "id": "ZNE_8_ebVjn4"
      },
      "execution_count": 93,
      "outputs": []
    },
    {
      "cell_type": "code",
      "source": [
        "x_train, x_test, y_train, y_test = train_test_split(X_train,Y_train, test_size=0.2)"
      ],
      "metadata": {
        "id": "RtEGRahTVlfS"
      },
      "execution_count": 94,
      "outputs": []
    },
    {
      "cell_type": "code",
      "source": [
        "rf_model = RandomForestClassifier(n_estimators=150, max_depth=3)\n",
        "rf_model.fit(x_train, y_train)\n",
        "y_predicted = rf_model.predict(x_test)"
      ],
      "metadata": {
        "id": "FbV6EIcGVnYI"
      },
      "execution_count": 95,
      "outputs": []
    },
    {
      "cell_type": "code",
      "source": [
        "rf_model.score(x_test, y_test)"
      ],
      "metadata": {
        "colab": {
          "base_uri": "https://localhost:8080/"
        },
        "id": "LkDd42rQVt2C",
        "outputId": "dabf7163-9143-4259-f8de-30146b5e22ac"
      },
      "execution_count": 96,
      "outputs": [
        {
          "output_type": "execute_result",
          "data": {
            "text/plain": [
              "0.99375"
            ]
          },
          "metadata": {},
          "execution_count": 96
        }
      ]
    },
    {
      "cell_type": "code",
      "source": [
        "rf_model.score(X_test, Y_test)"
      ],
      "metadata": {
        "colab": {
          "base_uri": "https://localhost:8080/"
        },
        "id": "k1Y8NHAcVxQJ",
        "outputId": "73a9e2ff-eaf4-4bef-93bf-429230b730a3"
      },
      "execution_count": 97,
      "outputs": [
        {
          "output_type": "execute_result",
          "data": {
            "text/plain": [
              "0.8725490196078431"
            ]
          },
          "metadata": {},
          "execution_count": 97
        }
      ]
    },
    {
      "cell_type": "markdown",
      "source": [
        "#knn"
      ],
      "metadata": {
        "id": "dHp3RR8AaRAt"
      }
    },
    {
      "cell_type": "code",
      "source": [
        "from sklearn.neighbors import KNeighborsClassifier\n",
        "knn = KNeighborsClassifier(n_neighbors=7)\n",
        "knn.fit(x_train,y_train)\n",
        "y_predicted_knn = knn.predict(x_test)\n",
        "knn.score(x_test, y_test)"
      ],
      "metadata": {
        "colab": {
          "base_uri": "https://localhost:8080/"
        },
        "id": "-0xpPAMaaQRl",
        "outputId": "9c4f0732-5665-4645-93a8-5e613c4f5890"
      },
      "execution_count": 98,
      "outputs": [
        {
          "output_type": "execute_result",
          "data": {
            "text/plain": [
              "0.9875"
            ]
          },
          "metadata": {},
          "execution_count": 98
        }
      ]
    },
    {
      "cell_type": "code",
      "source": [
        "print(knn.score(X_test, Y_test))\n",
        "y_predicted_test = knn.predict(X_test)"
      ],
      "metadata": {
        "colab": {
          "base_uri": "https://localhost:8080/"
        },
        "id": "Z0uYIVDcaUYI",
        "outputId": "831a3bc8-a735-4f3a-d501-a602b981c1f5"
      },
      "execution_count": 99,
      "outputs": [
        {
          "output_type": "stream",
          "name": "stdout",
          "text": [
            "0.8970588235294118\n"
          ]
        }
      ]
    },
    {
      "cell_type": "markdown",
      "source": [
        "#svm"
      ],
      "metadata": {
        "id": "qxT9otNKi8HH"
      }
    },
    {
      "cell_type": "code",
      "source": [
        "svm_model = SVC(C = 150 ,kernel ='rbf')\n",
        "svm_model.fit(x_train, y_train)\n",
        "svm_model.score(x_test, y_test)"
      ],
      "metadata": {
        "colab": {
          "base_uri": "https://localhost:8080/"
        },
        "id": "6EGfieRJi9XO",
        "outputId": "582c2135-d352-4b50-e5d3-c46f0a08c345"
      },
      "execution_count": 119,
      "outputs": [
        {
          "output_type": "execute_result",
          "data": {
            "text/plain": [
              "0.98125"
            ]
          },
          "metadata": {},
          "execution_count": 119
        }
      ]
    },
    {
      "cell_type": "code",
      "source": [
        "Y_predicted = svm_model.predict(X_test)\n",
        "svm_model.score(X_test,Y_test)"
      ],
      "metadata": {
        "colab": {
          "base_uri": "https://localhost:8080/"
        },
        "id": "88mL0786jEUE",
        "outputId": "858a63de-3b7a-4dc5-e882-16daa3d7a489"
      },
      "execution_count": 120,
      "outputs": [
        {
          "output_type": "execute_result",
          "data": {
            "text/plain": [
              "0.9068627450980392"
            ]
          },
          "metadata": {},
          "execution_count": 120
        }
      ]
    }
  ]
}