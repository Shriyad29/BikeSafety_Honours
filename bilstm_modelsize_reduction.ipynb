{
  "cells": [
    {
      "cell_type": "code",
      "execution_count": 5,
      "metadata": {
        "id": "83guxcl3XSJK"
      },
      "outputs": [
        {
          "ename": "SyntaxError",
          "evalue": "invalid syntax (2967326753.py, line 1)",
          "output_type": "error",
          "traceback": [
            "\u001b[1;36m  Cell \u001b[1;32mIn [5], line 1\u001b[1;36m\u001b[0m\n\u001b[1;33m    python - m install - -upgrade pip\u001b[0m\n\u001b[1;37m               ^\u001b[0m\n\u001b[1;31mSyntaxError\u001b[0m\u001b[1;31m:\u001b[0m invalid syntax\n"
          ]
        }
      ],
      "source": [
        "import tensorflow as tf\n",
        "from tensorflow import keras\n",
        "import numpy as np \n",
        "import pandas as pd\n",
        "import matplotlib.pyplot as plt\n",
        "import seaborn as sns\n",
        "import warnings\n",
        "from scipy import stats\n",
        "from keras.models import Sequential\n",
        "from keras.layers import LSTM, Dense, Flatten, Dropout\n",
        "warnings.filterwarnings('ignore')\n",
        "import numpy as np\n",
        "from keras.preprocessing import sequence\n",
        "from keras.models import Sequential\n",
        "from keras.layers import Dense, Dropout, Embedding, LSTM, Bidirectional\n"
      ]
    },
    {
      "cell_type": "code",
      "execution_count": null,
      "metadata": {
        "id": "QvA1top7XTzU"
      },
      "outputs": [],
      "source": [
        "test =pd.read_csv('/content/Test_291021_ub (2).csv')\n",
        "train = pd.read_csv('/content/train_291021 (2).csv')\n"
      ]
    },
    {
      "cell_type": "code",
      "execution_count": null,
      "metadata": {
        "id": "SVnX3K9lXVgL"
      },
      "outputs": [],
      "source": [
        "train_data = train.drop(['TIME IN GMT','TIME IN IST','Lat ','Long', 'Time','T','Date'], axis=1)\n",
        "test_data = test.drop(['TIME IN GMT','TIME IN IST','Lat ','Long', 'Time','T','Date'], axis=1)\n"
      ]
    },
    {
      "cell_type": "code",
      "execution_count": null,
      "metadata": {
        "id": "GItPS7pdXXle"
      },
      "outputs": [],
      "source": [
        "train_data.dropna(axis=0, how='any', inplace=True)\n"
      ]
    },
    {
      "cell_type": "code",
      "execution_count": null,
      "metadata": {
        "colab": {
          "base_uri": "https://localhost:8080/"
        },
        "id": "Cav1QDS-XZdk",
        "outputId": "1cfe4207-bed3-460b-dbe0-409c9de724e9"
      },
      "outputs": [
        {
          "data": {
            "text/plain": [
              "(594, 8)"
            ]
          },
          "execution_count": 7,
          "metadata": {},
          "output_type": "execute_result"
        }
      ],
      "source": [
        "test_data.dropna(axis=0, how='any', inplace=True)\n",
        "test_data.shape"
      ]
    },
    {
      "cell_type": "code",
      "execution_count": null,
      "metadata": {
        "id": "vqfDVXn4XoID"
      },
      "outputs": [],
      "source": [
        "n_time_steps = 104\n",
        "n_features = 7 \n",
        "step = 2\n",
        "n_classes = 5 \n",
        "n_epochs = 35      \n",
        "batch_size = 64   \n",
        "learning_rate = 0.0001\n",
        "l2_loss = 0.0015\n",
        "\n",
        "segments = []\n",
        "labels = []\n",
        "\n"
      ]
    },
    {
      "cell_type": "code",
      "execution_count": null,
      "metadata": {
        "id": "J8n3ONXxXpdt"
      },
      "outputs": [],
      "source": [
        "for i in range(0,  train_data.shape[0]- n_time_steps, step):  \n",
        "\n",
        "    Ax_tr = train_data['Ax'].values[i: i + n_time_steps]\n",
        "\n",
        "    Ay_tr = train_data['Ay'].values[i: i + n_time_steps]\n",
        "\n",
        "    Az_tr = train_data['Az'].values[i: i + n_time_steps]\n",
        "\n",
        "    Gx_tr = train_data['Gx'].values[i: i + n_time_steps]\n",
        "\n",
        "    Gy_tr = train_data['Gy'].values[i: i + n_time_steps]\n",
        "\n",
        "    Gz_tr = train_data['Gz'].values[i: i + n_time_steps]\n",
        "\n",
        "    Speed_tr = train_data['Speed'].values[i: i + n_time_steps]\n",
        "\n",
        "\n",
        "    label_tr = stats.mode(train_data['Label'][i: i + n_time_steps])[0][0]\n",
        "\n",
        "    segments.append([Ax_tr, Ay_tr, Az_tr, Gx_tr,Gy_tr,Gz_tr,Speed_tr])\n",
        "\n",
        "    labels.append(label_tr)"
      ]
    },
    {
      "cell_type": "code",
      "execution_count": null,
      "metadata": {
        "colab": {
          "base_uri": "https://localhost:8080/"
        },
        "id": "cMJjXkmLXqor",
        "outputId": "bdfdf1c2-6512-44b2-c027-68f6b3d91c5b"
      },
      "outputs": [
        {
          "data": {
            "text/plain": [
              "(1128, 104, 7)"
            ]
          },
          "execution_count": 28,
          "metadata": {},
          "output_type": "execute_result"
        }
      ],
      "source": [
        "X_train = np.asarray(segments, dtype= np.float32).reshape(-1, n_time_steps, n_features)\n",
        "\n",
        "y_train = np.asarray(pd.get_dummies(labels), dtype = np.float32)\n",
        "\n",
        "X_train.shape"
      ]
    },
    {
      "cell_type": "code",
      "execution_count": null,
      "metadata": {
        "id": "6u5ASnWtXsnX"
      },
      "outputs": [],
      "source": [
        "reshaped_segments = np.asarray(segments, dtype= np.float32).reshape(-1, n_time_steps, n_features)"
      ]
    },
    {
      "cell_type": "code",
      "execution_count": null,
      "metadata": {
        "colab": {
          "base_uri": "https://localhost:8080/"
        },
        "id": "ZF8PCciQXuFK",
        "outputId": "bbd9bdb2-ed3a-4b91-f4b9-fe4bbf2da3c1"
      },
      "outputs": [
        {
          "data": {
            "text/plain": [
              "(1128, 104, 7)"
            ]
          },
          "execution_count": 30,
          "metadata": {},
          "output_type": "execute_result"
        }
      ],
      "source": [
        "labels = np.asarray(pd.get_dummies(labels), dtype = np.float32)\n",
        "\n",
        "reshaped_segments.shape"
      ]
    },
    {
      "cell_type": "code",
      "execution_count": null,
      "metadata": {
        "id": "3O4C1lVoXvQ-"
      },
      "outputs": [],
      "source": [
        "from sklearn.model_selection import train_test_split\n",
        "X_train, X_test, y_train, y_test = train_test_split(reshaped_segments, labels, test_size = 0.25)\n"
      ]
    },
    {
      "cell_type": "code",
      "execution_count": null,
      "metadata": {
        "colab": {
          "base_uri": "https://localhost:8080/"
        },
        "id": "dG9ysej4vmm6",
        "outputId": "0a3d0f7b-73b7-41c2-af5f-264754746813"
      },
      "outputs": [
        {
          "data": {
            "text/plain": [
              "(282, 104, 7)"
            ]
          },
          "execution_count": 32,
          "metadata": {},
          "output_type": "execute_result"
        }
      ],
      "source": [
        "X_test.shape"
      ]
    },
    {
      "cell_type": "code",
      "execution_count": null,
      "metadata": {
        "colab": {
          "base_uri": "https://localhost:8080/"
        },
        "id": "sjrNn133XwbN",
        "outputId": "7a5cf0c3-a402-4632-ac37-76a77422d5cc"
      },
      "outputs": [
        {
          "name": "stdout",
          "output_type": "stream",
          "text": [
            "Model: \"sequential_1\"\n",
            "_________________________________________________________________\n",
            " Layer (type)                Output Shape              Param #   \n",
            "=================================================================\n",
            " bidirectional_1 (Bidirectio  (None, 100)              23200     \n",
            " nal)                                                            \n",
            "                                                                 \n",
            " dense_2 (Dense)             (None, 64)                6464      \n",
            "                                                                 \n",
            " dense_3 (Dense)             (None, 5)                 325       \n",
            "                                                                 \n",
            "=================================================================\n",
            "Total params: 29,989\n",
            "Trainable params: 29,989\n",
            "Non-trainable params: 0\n",
            "_________________________________________________________________\n"
          ]
        }
      ],
      "source": [
        "from keras.models import Sequential\n",
        "from keras.layers import LSTM, Dense, Flatten, Dropout\n",
        "from keras.layers import TimeDistributed\n",
        "\n",
        "import os\n",
        "from tensorflow.keras import Input\n",
        "from tensorflow.keras.models import load_model, Model\n",
        "\n",
        "from tensorflow.keras import backend as K\n",
        "from tensorflow.keras.layers import Dense, Lambda, Dot, Activation, Concatenate, Layer\n",
        "# model = Sequential()\n",
        "# # RNN layer\n",
        "# model.add(LSTM(units = 100, input_shape = (X_train.shape[1], X_train.shape[2])))\n",
        "\n",
        "# # Dropout layer\n",
        "# model.add(Dropout(0.4))\n",
        " \n",
        "# # Dense layer with ReLu\n",
        "# model.add(Dense(units = 32, activation='tanh'))\n",
        "\n",
        "# # Softmax layer\n",
        "# model.add(Dense(y_train.shape[1], activation = 'softplus'))\n",
        "\n",
        "# # Compile model\n",
        "# model.compile(loss='categorical_crossentropy', optimizer='adam', metrics=['accuracy'])\n",
        "\n",
        "# model.summary()\n",
        "from keras.models import Sequential\n",
        "from keras.layers import LSTM, Dense, Flatten, Dropout\n",
        "from keras.models import Sequential\n",
        "from keras.layers import LSTM\n",
        "from keras.layers import Dense\n",
        "from keras.layers import TimeDistributed\n",
        "from keras.layers import Bidirectional\n",
        "\n",
        "model = Sequential()\n",
        "x = model.add(Bidirectional(LSTM(50, return_sequences=False), input_shape=(X_train.shape[1], X_train.shape[2])))\n",
        "# model.add(Bidirectional(LSTM(100)))(x)\n",
        "model.add(Dense(units = 64, activation='tanh'))\n",
        "model.add(Dense(y_train.shape[1], activation = 'softplus'))\n",
        "model.compile(loss='categorical_crossentropy', optimizer='adam', metrics=['accuracy'])\n",
        "model.summary()"
      ]
    },
    {
      "cell_type": "code",
      "execution_count": null,
      "metadata": {
        "colab": {
          "base_uri": "https://localhost:8080/"
        },
        "id": "MKSuEWsoXC83",
        "outputId": "6c4da381-90da-418f-fdcd-b1ec32fb0be5"
      },
      "outputs": [
        {
          "name": "stdout",
          "output_type": "stream",
          "text": [
            "Size:  0.029 MB\n"
          ]
        }
      ],
      "source": [
        "total_params = 29989\n",
        "model_size = total_params/1024**2\n",
        "print('Size: {: .3f} MB'.format(model_size))\n",
        "\n",
        "# model_size = 99589/(1024**2)\n",
        "# model_size"
      ]
    },
    {
      "cell_type": "code",
      "execution_count": null,
      "metadata": {
        "id": "j-BD0k5nDK-j"
      },
      "outputs": [],
      "source": [
        "from keras.models import Sequential\n",
        "from keras.layers import LSTM, Dense, Flatten, Dropout"
      ]
    },
    {
      "cell_type": "code",
      "execution_count": null,
      "metadata": {
        "colab": {
          "base_uri": "https://localhost:8080/"
        },
        "id": "CkcC6u3MXx_S",
        "outputId": "a3bf759b-860a-452c-f206-8797c5e2e4f3"
      },
      "outputs": [
        {
          "name": "stdout",
          "output_type": "stream",
          "text": [
            "(282, 104, 7)\n",
            "(282, 5)\n"
          ]
        }
      ],
      "source": [
        "print(X_test.shape)\n",
        "print(y_test.shape)"
      ]
    },
    {
      "cell_type": "code",
      "execution_count": null,
      "metadata": {
        "colab": {
          "base_uri": "https://localhost:8080/"
        },
        "id": "txzBzWRcX25D",
        "outputId": "4285ae3c-50d8-41c2-a5f0-c363e85efc6c"
      },
      "outputs": [
        {
          "name": "stdout",
          "output_type": "stream",
          "text": [
            "Epoch 1/35\n",
            "27/27 [==============================] - 6s 77ms/step - loss: 1.0013 - accuracy: 0.7175 - val_loss: 0.6685 - val_accuracy: 0.8404\n",
            "Epoch 2/35\n",
            "27/27 [==============================] - 1s 48ms/step - loss: 0.7261 - accuracy: 0.8038 - val_loss: 0.6119 - val_accuracy: 0.8404\n",
            "Epoch 3/35\n",
            "27/27 [==============================] - 1s 48ms/step - loss: 0.6907 - accuracy: 0.8038 - val_loss: 0.5766 - val_accuracy: 0.8475\n",
            "Epoch 4/35\n",
            "27/27 [==============================] - 1s 51ms/step - loss: 0.6214 - accuracy: 0.8144 - val_loss: 0.5066 - val_accuracy: 0.8617\n",
            "Epoch 5/35\n",
            "27/27 [==============================] - 2s 64ms/step - loss: 0.4780 - accuracy: 0.8416 - val_loss: 0.4013 - val_accuracy: 0.8865\n",
            "Epoch 6/35\n",
            "27/27 [==============================] - 2s 59ms/step - loss: 0.3470 - accuracy: 0.8842 - val_loss: 0.2888 - val_accuracy: 0.8759\n",
            "Epoch 7/35\n",
            "27/27 [==============================] - 4s 133ms/step - loss: 0.2727 - accuracy: 0.8889 - val_loss: 0.2713 - val_accuracy: 0.8759\n",
            "Epoch 8/35\n",
            "27/27 [==============================] - 3s 112ms/step - loss: 0.2326 - accuracy: 0.8948 - val_loss: 0.2694 - val_accuracy: 0.8652\n",
            "Epoch 9/35\n",
            "27/27 [==============================] - 2s 91ms/step - loss: 0.2177 - accuracy: 0.8960 - val_loss: 0.2327 - val_accuracy: 0.8865\n",
            "Epoch 10/35\n",
            "27/27 [==============================] - 2s 67ms/step - loss: 0.1863 - accuracy: 0.9149 - val_loss: 0.2079 - val_accuracy: 0.8972\n",
            "Epoch 11/35\n",
            "27/27 [==============================] - 1s 49ms/step - loss: 0.1738 - accuracy: 0.9314 - val_loss: 0.2123 - val_accuracy: 0.9326\n",
            "Epoch 12/35\n",
            "27/27 [==============================] - 2s 78ms/step - loss: 0.1497 - accuracy: 0.9539 - val_loss: 0.2023 - val_accuracy: 0.9149\n",
            "Epoch 13/35\n",
            "27/27 [==============================] - 1s 52ms/step - loss: 0.1305 - accuracy: 0.9563 - val_loss: 0.1652 - val_accuracy: 0.9433\n",
            "Epoch 14/35\n",
            "27/27 [==============================] - 1s 48ms/step - loss: 0.1005 - accuracy: 0.9704 - val_loss: 0.1921 - val_accuracy: 0.9397\n",
            "Epoch 15/35\n",
            "27/27 [==============================] - 1s 49ms/step - loss: 0.1066 - accuracy: 0.9681 - val_loss: 0.2046 - val_accuracy: 0.9184\n",
            "Epoch 16/35\n",
            "27/27 [==============================] - 1s 49ms/step - loss: 0.1020 - accuracy: 0.9645 - val_loss: 0.1458 - val_accuracy: 0.9468\n",
            "Epoch 17/35\n",
            "27/27 [==============================] - 1s 49ms/step - loss: 0.1199 - accuracy: 0.9610 - val_loss: 0.1635 - val_accuracy: 0.9433\n",
            "Epoch 18/35\n",
            "27/27 [==============================] - 1s 48ms/step - loss: 0.0811 - accuracy: 0.9787 - val_loss: 0.1457 - val_accuracy: 0.9433\n",
            "Epoch 19/35\n",
            "27/27 [==============================] - 1s 49ms/step - loss: 0.0555 - accuracy: 0.9882 - val_loss: 0.1589 - val_accuracy: 0.9468\n",
            "Epoch 20/35\n",
            "27/27 [==============================] - 2s 63ms/step - loss: 0.0466 - accuracy: 0.9929 - val_loss: 0.1335 - val_accuracy: 0.9504\n",
            "Epoch 21/35\n",
            "27/27 [==============================] - 2s 65ms/step - loss: 0.0462 - accuracy: 0.9870 - val_loss: 0.1150 - val_accuracy: 0.9539\n",
            "Epoch 22/35\n",
            "27/27 [==============================] - 1s 48ms/step - loss: 0.0417 - accuracy: 0.9870 - val_loss: 0.1210 - val_accuracy: 0.9504\n",
            "Epoch 23/35\n",
            "27/27 [==============================] - 1s 47ms/step - loss: 0.0407 - accuracy: 0.9894 - val_loss: 0.1473 - val_accuracy: 0.9433\n",
            "Epoch 24/35\n",
            "27/27 [==============================] - 1s 49ms/step - loss: 0.0521 - accuracy: 0.9858 - val_loss: 0.1589 - val_accuracy: 0.9504\n",
            "Epoch 25/35\n",
            "27/27 [==============================] - 1s 49ms/step - loss: 0.0281 - accuracy: 0.9929 - val_loss: 0.0995 - val_accuracy: 0.9645\n",
            "Epoch 26/35\n",
            "27/27 [==============================] - 1s 49ms/step - loss: 0.0240 - accuracy: 0.9953 - val_loss: 0.1142 - val_accuracy: 0.9504\n",
            "Epoch 27/35\n",
            "27/27 [==============================] - 1s 49ms/step - loss: 0.0191 - accuracy: 0.9965 - val_loss: 0.0933 - val_accuracy: 0.9645\n",
            "Epoch 28/35\n",
            "27/27 [==============================] - 1s 49ms/step - loss: 0.0167 - accuracy: 0.9965 - val_loss: 0.1131 - val_accuracy: 0.9574\n",
            "Epoch 29/35\n",
            "27/27 [==============================] - 2s 81ms/step - loss: 0.0153 - accuracy: 0.9965 - val_loss: 0.1082 - val_accuracy: 0.9645\n",
            "Epoch 30/35\n",
            "27/27 [==============================] - 1s 51ms/step - loss: 0.0140 - accuracy: 0.9976 - val_loss: 0.1024 - val_accuracy: 0.9645\n",
            "Epoch 31/35\n",
            "27/27 [==============================] - 1s 50ms/step - loss: 0.0096 - accuracy: 0.9988 - val_loss: 0.0885 - val_accuracy: 0.9681\n",
            "Epoch 32/35\n",
            "27/27 [==============================] - 1s 50ms/step - loss: 0.0109 - accuracy: 0.9988 - val_loss: 0.1059 - val_accuracy: 0.9645\n",
            "Epoch 33/35\n",
            "27/27 [==============================] - 1s 49ms/step - loss: 0.0095 - accuracy: 0.9976 - val_loss: 0.1500 - val_accuracy: 0.9468\n",
            "Epoch 34/35\n",
            "27/27 [==============================] - 1s 49ms/step - loss: 0.0099 - accuracy: 0.9988 - val_loss: 0.1099 - val_accuracy: 0.9574\n",
            "Epoch 35/35\n",
            "27/27 [==============================] - 1s 49ms/step - loss: 0.0064 - accuracy: 0.9988 - val_loss: 0.1006 - val_accuracy: 0.9681\n"
          ]
        }
      ],
      "source": [
        "history = model.fit(X_train, y_train, epochs = n_epochs, validation_data = (X_test, y_test), batch_size = batch_size, verbose = 1)\n",
        "\n",
        "#history = model.fit(X_train, y_train, epochs = n_epochs, validation_data = (X_test, y_test), batch_size = batch_size, verbose = 1)\n"
      ]
    },
    {
      "cell_type": "code",
      "execution_count": null,
      "metadata": {
        "colab": {
          "base_uri": "https://localhost:8080/",
          "height": 295
        },
        "id": "-0rh5jqZX5NA",
        "outputId": "2a740303-693d-41d3-b080-7d9fe0747d15"
      },
      "outputs": [
        {
          "data": {
            "image/png": "[encoded data removed]",
            "text/plain": [
              "<Figure size 432x288 with 1 Axes>"
            ]
          },
          "metadata": {
            "needs_background": "light"
          },
          "output_type": "display_data"
        }
      ],
      "source": [
        "plt.plot(np.array(history.history['loss']), \"r--\", label = \"Train loss\")\n",
        "# plt.plot(np.array(history.history['accuracy']), \"g--\", label = \"Train accuracy\")\n",
        "plt.plot(np.array(history.history['val_loss']), \"r-\", label = \"Validation loss\")\n",
        "# plt.plot(np.array(history.history['val_accuracy']), \"g-\", label = \"Validation accuracy\")\n",
        "plt.title(\"Training session's progress over iterations\")\n",
        "plt.legend(loc='lower left')\n",
        "plt.ylabel('Training Progress (Loss/Accuracy)')\n",
        "plt.xlabel('Training Epoch')\n",
        "plt.ylim(0) \n",
        "plt.show()"
      ]
    },
    {
      "cell_type": "code",
      "execution_count": null,
      "metadata": {
        "colab": {
          "base_uri": "https://localhost:8080/",
          "height": 314
        },
        "id": "L6hxadbGgWpA",
        "outputId": "a78b0fc0-f59b-46a3-a6fe-aec12d8fb345"
      },
      "outputs": [
        {
          "name": "stdout",
          "output_type": "stream",
          "text": [
            "9/9 [==============================] - 1s 12ms/step\n"
          ]
        },
        {
          "data": {
            "image/png": "[encoded data removed]",
            "text/plain": [
              "<Figure size 432x288 with 2 Axes>"
            ]
          },
          "metadata": {
            "needs_background": "light"
          },
          "output_type": "display_data"
        }
      ],
      "source": [
        "import sklearn.metrics as metrics\n",
        "\n",
        "predictions = model.predict(X_test)\n",
        "class_labels = [ 'STRAIGHT', 'BUMP', 'LEFT',  'RIGHT','STOP']\n",
        "\n",
        "max_test = np.argmax(y_test, axis=1)\n",
        "max_predictions = np.argmax(predictions, axis=1)\n",
        "confusion_matrix = metrics.confusion_matrix(max_test, max_predictions)\n",
        "\n",
        "sns.heatmap(confusion_matrix, xticklabels = class_labels, yticklabels = class_labels, annot = True, linewidths = 0.1, fmt='d', cmap = 'YlGnBu')\n",
        "plt.title(\"Confusion matrix\", fontsize = 15)\n",
        "plt.ylabel('True label')\n",
        "plt.xlabel('Predicted label')\n",
        "plt.show()"
      ]
    },
    {
      "cell_type": "code",
      "execution_count": null,
      "metadata": {
        "colab": {
          "base_uri": "https://localhost:8080/",
          "height": 314
        },
        "id": "QSXi6MJfX_sl",
        "outputId": "c512f462-666c-4e82-9231-0f95e0898375"
      },
      "outputs": [
        {
          "name": "stdout",
          "output_type": "stream",
          "text": [
            "9/9 [==============================] - 0s 12ms/step\n"
          ]
        },
        {
          "data": {
            "image/png": "[encoded data removed]",
            "text/plain": [
              "<Figure size 432x288 with 2 Axes>"
            ]
          },
          "metadata": {
            "needs_background": "light"
          },
          "output_type": "display_data"
        }
      ],
      "source": [
        "import sklearn.metrics as metrics\n",
        "\n",
        "predictions = model.predict(X_test)\n",
        "class_labels = [ 'STRAIGHT', 'BUMP', 'LEFT',  'RIGHT','STOP']\n",
        "max_test = np.argmax(y_test, axis=1)\n",
        "max_predictions = np.argmax(predictions, axis=1)\n",
        "confusion_matrix = metrics.confusion_matrix(max_test, max_predictions)\n",
        "\n",
        "sns.heatmap(confusion_matrix, xticklabels = class_labels, yticklabels = class_labels, annot = True, linewidths = 0.1, fmt='d', cmap = 'YlGnBu')\n",
        "plt.title(\"Confusion matrix\", fontsize = 15)\n",
        "plt.ylabel('True label')\n",
        "plt.xlabel('Predicted label')\n",
        "plt.show()"
      ]
    },
    {
      "cell_type": "code",
      "execution_count": null,
      "metadata": {
        "colab": {
          "base_uri": "https://localhost:8080/"
        },
        "id": "dWJqKkMPYNW8",
        "outputId": "0331075a-1003-4793-ef14-52cf4e06b337"
      },
      "outputs": [
        {
          "name": "stdout",
          "output_type": "stream",
          "text": [
            "9/9 [==============================] - 0s 12ms/step - loss: 0.1006 - accuracy: 0.9681\n",
            "Test Accuracy : 0.9680851101875305\n",
            "Test Loss : 0.10064048320055008\n"
          ]
        }
      ],
      "source": [
        "loss, accuracy = model.evaluate(X_test, y_test, batch_size = batch_size, verbose = 1)\n",
        "print(\"Test Accuracy :\", accuracy)\n",
        "print(\"Test Loss :\", loss)"
      ]
    },
    {
      "cell_type": "code",
      "execution_count": null,
      "metadata": {
        "colab": {
          "base_uri": "https://localhost:8080/",
          "height": 314
        },
        "id": "VSSnqn6cYPBr",
        "outputId": "cff5e619-b67c-49eb-a47c-72210177d206"
      },
      "outputs": [
        {
          "name": "stdout",
          "output_type": "stream",
          "text": [
            "9/9 [==============================] - 0s 12ms/step\n"
          ]
        },
        {
          "data": {
            "image/png": "[encoded data removed]",
            "text/plain": [
              "<Figure size 432x288 with 2 Axes>"
            ]
          },
          "metadata": {
            "needs_background": "light"
          },
          "output_type": "display_data"
        }
      ],
      "source": [
        "\n",
        "\n",
        "import sklearn.metrics as metrics\n",
        "\n",
        "predictions = model.predict(X_test)\n",
        "class_labels = ['BUMP', 'LEFT',  'RIGHT','STOP', 'STRAIGHT']\n",
        "max_test = np.argmax(y_test, axis=1)\n",
        "max_predictions = np.argmax(predictions, axis=1)\n",
        "confusion_matrix = metrics.confusion_matrix(max_test, max_predictions)\n",
        "cmn = confusion_matrix.astype('float') / confusion_matrix.sum(axis=1)[:, np.newaxis]\n",
        "sns.heatmap(cmn, xticklabels = class_labels, yticklabels = class_labels, annot = True, linewidths = 0.1, fmt='2f', cmap = 'YlGnBu')\n",
        "plt.title(\"Confusion matrix\", fontsize = 15)\n",
        "plt.ylabel('True label')\n",
        "plt.xlabel('Predicted label')\n",
        "plt.show()"
      ]
    },
    {
      "cell_type": "code",
      "execution_count": null,
      "metadata": {
        "id": "FINhUsVqYQOA"
      },
      "outputs": [],
      "source": [
        "\n"
      ]
    }
  ],
  "metadata": {
    "colab": {
      "provenance": []
    },
    "kernelspec": {
      "display_name": "Python 3",
      "name": "python3"
    },
    "language_info": {
      "codemirror_mode": {
        "name": "ipython",
        "version": 3
      },
      "file_extension": ".py",
      "mimetype": "text/x-python",
      "name": "python",
      "nbconvert_exporter": "python",
      "pygments_lexer": "ipython3",
      "version": "3.10.4"
    }
  },
  "nbformat": 4,
  "nbformat_minor": 0
}
