{
  "nbformat": 4,
  "nbformat_minor": 0,
  "metadata": {
    "colab": {
      "provenance": []
    },
    "kernelspec": {
      "name": "python3",
      "display_name": "Python 3"
    },
    "language_info": {
      "name": "python"
    }
  },
  "cells": [
    {
      "cell_type": "code",
      "execution_count": 1,
      "metadata": {
        "id": "l5UYE5Cyfmrm"
      },
      "outputs": [],
      "source": [
        "import numpy as np \n",
        "import pandas as pd\n",
        "import matplotlib.pyplot as plt\n",
        "import seaborn as sns\n",
        "from scipy import stats"
      ]
    },
    {
      "cell_type": "code",
      "source": [
        "train =pd.read_csv('/content/train_291021.csv')\n",
        "print(train.shape)\n"
      ],
      "metadata": {
        "colab": {
          "base_uri": "https://localhost:8080/"
        },
        "id": "yjNBR3XLft2d",
        "outputId": "5d44ceff-9381-42fc-8869-620275db798d"
      },
      "execution_count": 2,
      "outputs": [
        {
          "output_type": "stream",
          "name": "stdout",
          "text": [
            "(2359, 15)\n"
          ]
        }
      ]
    },
    {
      "cell_type": "code",
      "source": [
        "train_data = train.drop(['TIME IN GMT','TIME IN IST','Lat ','Long', 'Time','T','Date'], axis=1)\n",
        "print(train_data.shape)\n",
        "#train_data"
      ],
      "metadata": {
        "colab": {
          "base_uri": "https://localhost:8080/"
        },
        "id": "n055MLi2hXOh",
        "outputId": "f741370e-7b62-49ad-f61a-6ae80969e521"
      },
      "execution_count": 4,
      "outputs": [
        {
          "output_type": "stream",
          "name": "stdout",
          "text": [
            "(2359, 8)\n"
          ]
        }
      ]
    },
    {
      "cell_type": "markdown",
      "source": [
        "## ignore"
      ],
      "metadata": {
        "id": "D0oduorDeX91"
      }
    },
    {
      "cell_type": "code",
      "source": [
        "i = 0 \n",
        "n_time_steps = 100\n",
        "Ax_tr = train_data['Ax'].values[i: i + n_time_steps]\n",
        "\n",
        "Ay_tr = train_data['Ay'].values[i: i + n_time_steps]\n",
        "\n",
        "Az_tr = train_data['Az'].values[i: i + n_time_steps]\n",
        "\n",
        "Gx_tr = train_data['Gx'].values[i: i + n_time_steps]\n",
        "\n",
        "Gy_tr = train_data['Gy'].values[i: i + n_time_steps]\n",
        "\n",
        "Gz_tr = train_data['Gz'].values[i: i + n_time_steps]\n",
        "\n",
        "Speed_tr = train_data['Speed'].values[i: i + n_time_steps]\n",
        "label_tr = stats.mode(train_data['Label'][i: i + n_time_steps],axis = None)[0][0]\n",
        "\n",
        "# print(train_data[i:i+n_time_steps])\n",
        "# print(label_tr)"
      ],
      "metadata": {
        "id": "1JhKnHIFociS"
      },
      "execution_count": 5,
      "outputs": []
    },
    {
      "cell_type": "code",
      "source": [
        "train_data.dropna(axis=0, how='any', inplace=True)\n",
        "print(train_data.shape)"
      ],
      "metadata": {
        "colab": {
          "base_uri": "https://localhost:8080/"
        },
        "id": "1phU0sHRhZlA",
        "outputId": "5c1666ba-50f7-4f87-caa1-5482b377eb60"
      },
      "execution_count": null,
      "outputs": [
        {
          "output_type": "stream",
          "name": "stdout",
          "text": [
            "(2359, 8)\n"
          ]
        }
      ]
    },
    {
      "cell_type": "code",
      "source": [
        "sns.set_style('white')\n",
        "sns.countplot(x = 'Label', data = train_data)\n",
        "plt.title('Number of samples by activity')\n",
        "plt.show()"
      ],
      "metadata": {
        "colab": {
          "base_uri": "https://localhost:8080/",
          "height": 295
        },
        "id": "xeNwlPXUhiuy",
        "outputId": "3ffafad1-3e7d-4816-9ff8-6c217ac19e13"
      },
      "execution_count": null,
      "outputs": [
        {
          "output_type": "display_data",
          "data": {
            "text/plain": [
              "<Figure size 432x288 with 1 Axes>"
            ],
            "image/png": "[encoded data removed]"
          },
          "metadata": {}
        }
      ]
    },
    {
      "cell_type": "markdown",
      "source": [
        "## Look "
      ],
      "metadata": {
        "id": "jYy7D1_aeb1F"
      }
    },
    {
      "cell_type": "code",
      "source": [
        "n_time_steps = 15\n",
        "n_features = 7 \n",
        "step = n_time_steps\n",
        "# straight,left,right,bump etc\n",
        "n_classes = 5 \n",
        "n_epochs = 35      \n",
        "batch_size = 32   \n",
        "learning_rate = 0.0001\n",
        "l2_loss = 0.0015\n",
        "\n",
        "segments = []\n",
        "labels = []\n"
      ],
      "metadata": {
        "id": "u37pCKT4edok"
      },
      "execution_count": 201,
      "outputs": []
    },
    {
      "cell_type": "markdown",
      "source": [
        "Divide the dataset into sets of length time_steps"
      ],
      "metadata": {
        "id": "7BB2y6CCfHMn"
      }
    },
    {
      "cell_type": "code",
      "source": [
        "for i in range(0,  train_data.shape[0]- n_time_steps, step):  \n",
        "\n",
        "    Ax_tr = train_data['Ax'].values[i: i + n_time_steps]\n",
        "\n",
        "    Ay_tr = train_data['Ay'].values[i: i + n_time_steps]\n",
        "\n",
        "    Az_tr = train_data['Az'].values[i: i + n_time_steps]\n",
        "\n",
        "    Gx_tr = train_data['Gx'].values[i: i + n_time_steps]\n",
        "\n",
        "    Gy_tr = train_data['Gy'].values[i: i + n_time_steps]\n",
        "\n",
        "    Gz_tr = train_data['Gz'].values[i: i + n_time_steps]\n",
        "\n",
        "    Speed_tr = train_data['Speed'].values[i: i + n_time_steps]\n",
        "\n",
        "\n",
        "    label_tr = stats.mode(train_data['Label'][i: i + n_time_steps])[0][0]\n",
        "\n",
        "    segments.append([Ax_tr, Ay_tr, Az_tr, Gx_tr,Gy_tr,Gz_tr,Speed_tr])\n",
        "\n",
        "    labels.append(label_tr)"
      ],
      "metadata": {
        "id": "jQJpzaTHej_z"
      },
      "execution_count": 202,
      "outputs": []
    },
    {
      "cell_type": "markdown",
      "source": [
        "Convert the list into numpy array"
      ],
      "metadata": {
        "id": "Su6yo6R4fMrG"
      }
    },
    {
      "cell_type": "code",
      "source": [
        "reshaped_segments = np.asarray(segments, dtype= np.float32).reshape(-1, n_time_steps, n_features)\n",
        "labels = np.asarray(pd.get_dummies(labels), dtype = np.float32)\n",
        "\n",
        "reshaped_segments.shape"
      ],
      "metadata": {
        "colab": {
          "base_uri": "https://localhost:8080/"
        },
        "id": "juKtwKJZetew",
        "outputId": "256ccbfe-7821-48cf-c248-5f8409cd2d6c"
      },
      "execution_count": 203,
      "outputs": [
        {
          "output_type": "execute_result",
          "data": {
            "text/plain": [
              "(157, 15, 7)"
            ]
          },
          "metadata": {},
          "execution_count": 203
        }
      ]
    },
    {
      "cell_type": "markdown",
      "source": [
        "Divide the segments array into training and testing data to avoid overfitting"
      ],
      "metadata": {
        "id": "hxIZnMj5f2Pz"
      }
    },
    {
      "cell_type": "code",
      "source": [
        "from sklearn.model_selection import train_test_split\n",
        "X_train, X_test, y_train, y_test = train_test_split(reshaped_segments, labels,test_size = 0.2)\n"
      ],
      "metadata": {
        "id": "FXjuo5ZAfWuy"
      },
      "execution_count": 204,
      "outputs": []
    },
    {
      "cell_type": "code",
      "source": [
        "print(X_train.shape)\n",
        "print(X_test.shape)\n",
        "print(y_train.shape)\n",
        "print(y_test.shape)"
      ],
      "metadata": {
        "colab": {
          "base_uri": "https://localhost:8080/"
        },
        "id": "t7C12hv2fYaF",
        "outputId": "78d5d8ad-2b9e-444d-8b8f-59c3c4de88f7"
      },
      "execution_count": 205,
      "outputs": [
        {
          "output_type": "stream",
          "name": "stdout",
          "text": [
            "(125, 15, 7)\n",
            "(32, 15, 7)\n",
            "(125, 5)\n",
            "(32, 5)\n"
          ]
        }
      ]
    },
    {
      "cell_type": "code",
      "source": [
        "from keras.models import Sequential\n",
        "from keras.layers import LSTM, Dense, Flatten, Dropout\n",
        "\n",
        "model = Sequential()\n",
        "# RNN layer\n",
        "model.add(LSTM(units = 100, input_shape = (X_train.shape[1], X_train.shape[2])))\n",
        "\n",
        "# Dropout layer\n",
        "model.add(Dropout(0.4))\n",
        " \n",
        "# Dense layer with ReLu\n",
        "model.add(Dense(units = 32, activation='tanh'))\n",
        "\n",
        "# Softmax layer\n",
        "model.add(Dense(y_train.shape[1], activation = 'softplus'))\n",
        "\n",
        "# Compile model\n",
        "model.compile(loss='categorical_crossentropy', optimizer='adam', metrics=['accuracy'])\n",
        "\n",
        "model.summary()"
      ],
      "metadata": {
        "colab": {
          "base_uri": "https://localhost:8080/"
        },
        "id": "tltfFyvif7oq",
        "outputId": "33716ff5-dcd9-4651-d072-f1f1954d202d"
      },
      "execution_count": 206,
      "outputs": [
        {
          "output_type": "stream",
          "name": "stdout",
          "text": [
            "Model: \"sequential_16\"\n",
            "_________________________________________________________________\n",
            " Layer (type)                Output Shape              Param #   \n",
            "=================================================================\n",
            " lstm_16 (LSTM)              (None, 100)               43200     \n",
            "                                                                 \n",
            " dropout_16 (Dropout)        (None, 100)               0         \n",
            "                                                                 \n",
            " dense_32 (Dense)            (None, 32)                3232      \n",
            "                                                                 \n",
            " dense_33 (Dense)            (None, 5)                 165       \n",
            "                                                                 \n",
            "=================================================================\n",
            "Total params: 46,597\n",
            "Trainable params: 46,597\n",
            "Non-trainable params: 0\n",
            "_________________________________________________________________\n"
          ]
        }
      ]
    },
    {
      "cell_type": "code",
      "source": [
        "print(X_test.shape)\n",
        "print(X_train.shape)"
      ],
      "metadata": {
        "colab": {
          "base_uri": "https://localhost:8080/"
        },
        "id": "BkbhmjU0gcQL",
        "outputId": "25ce47d3-97ae-47f1-c3a9-26d39c030e93"
      },
      "execution_count": 207,
      "outputs": [
        {
          "output_type": "stream",
          "name": "stdout",
          "text": [
            "(32, 15, 7)\n",
            "(125, 15, 7)\n"
          ]
        }
      ]
    },
    {
      "cell_type": "code",
      "source": [
        "model.fit(X_train, y_train, epochs = n_epochs, validation_data = (X_test, y_test), batch_size = batch_size)"
      ],
      "metadata": {
        "colab": {
          "base_uri": "https://localhost:8080/"
        },
        "id": "qveeFtiQggnm",
        "outputId": "3c4d9190-0396-438d-aa6d-7e14fd9d7773"
      },
      "execution_count": 208,
      "outputs": [
        {
          "output_type": "stream",
          "name": "stdout",
          "text": [
            "Epoch 1/35\n",
            "4/4 [==============================] - 3s 224ms/step - loss: 1.3533 - accuracy: 0.6000 - val_loss: 0.9866 - val_accuracy: 0.8750\n",
            "Epoch 2/35\n",
            "4/4 [==============================] - 0s 28ms/step - loss: 1.0264 - accuracy: 0.7920 - val_loss: 0.7331 - val_accuracy: 0.8750\n",
            "Epoch 3/35\n",
            "4/4 [==============================] - 0s 23ms/step - loss: 0.8295 - accuracy: 0.7920 - val_loss: 0.6157 - val_accuracy: 0.8750\n",
            "Epoch 4/35\n",
            "4/4 [==============================] - 0s 24ms/step - loss: 0.7826 - accuracy: 0.7920 - val_loss: 0.5503 - val_accuracy: 0.8750\n",
            "Epoch 5/35\n",
            "4/4 [==============================] - 0s 34ms/step - loss: 0.7103 - accuracy: 0.7920 - val_loss: 0.5133 - val_accuracy: 0.8750\n",
            "Epoch 6/35\n",
            "4/4 [==============================] - 0s 26ms/step - loss: 0.6800 - accuracy: 0.7920 - val_loss: 0.4901 - val_accuracy: 0.8750\n",
            "Epoch 7/35\n",
            "4/4 [==============================] - 0s 28ms/step - loss: 0.6481 - accuracy: 0.7920 - val_loss: 0.4722 - val_accuracy: 0.8750\n",
            "Epoch 8/35\n",
            "4/4 [==============================] - 0s 24ms/step - loss: 0.6045 - accuracy: 0.8000 - val_loss: 0.4559 - val_accuracy: 0.8750\n",
            "Epoch 9/35\n",
            "4/4 [==============================] - 0s 31ms/step - loss: 0.5827 - accuracy: 0.8160 - val_loss: 0.4402 - val_accuracy: 0.8750\n",
            "Epoch 10/35\n",
            "4/4 [==============================] - 0s 23ms/step - loss: 0.5656 - accuracy: 0.8240 - val_loss: 0.4211 - val_accuracy: 0.8750\n",
            "Epoch 11/35\n",
            "4/4 [==============================] - 0s 21ms/step - loss: 0.5160 - accuracy: 0.8320 - val_loss: 0.4042 - val_accuracy: 0.8750\n",
            "Epoch 12/35\n",
            "4/4 [==============================] - 0s 21ms/step - loss: 0.4975 - accuracy: 0.8400 - val_loss: 0.3874 - val_accuracy: 0.8750\n",
            "Epoch 13/35\n",
            "4/4 [==============================] - 0s 21ms/step - loss: 0.4715 - accuracy: 0.8480 - val_loss: 0.3718 - val_accuracy: 0.8750\n",
            "Epoch 14/35\n",
            "4/4 [==============================] - 0s 22ms/step - loss: 0.4411 - accuracy: 0.8400 - val_loss: 0.3582 - val_accuracy: 0.8750\n",
            "Epoch 15/35\n",
            "4/4 [==============================] - 0s 23ms/step - loss: 0.4198 - accuracy: 0.8640 - val_loss: 0.3465 - val_accuracy: 0.9062\n",
            "Epoch 16/35\n",
            "4/4 [==============================] - 0s 22ms/step - loss: 0.4128 - accuracy: 0.8400 - val_loss: 0.3348 - val_accuracy: 0.9062\n",
            "Epoch 17/35\n",
            "4/4 [==============================] - 0s 24ms/step - loss: 0.4042 - accuracy: 0.8640 - val_loss: 0.3243 - val_accuracy: 0.9375\n",
            "Epoch 18/35\n",
            "4/4 [==============================] - 0s 22ms/step - loss: 0.3788 - accuracy: 0.8720 - val_loss: 0.3172 - val_accuracy: 0.9375\n",
            "Epoch 19/35\n",
            "4/4 [==============================] - 0s 21ms/step - loss: 0.3591 - accuracy: 0.8960 - val_loss: 0.3111 - val_accuracy: 0.9375\n",
            "Epoch 20/35\n",
            "4/4 [==============================] - 0s 22ms/step - loss: 0.3411 - accuracy: 0.8960 - val_loss: 0.3057 - val_accuracy: 0.9375\n",
            "Epoch 21/35\n",
            "4/4 [==============================] - 0s 23ms/step - loss: 0.3216 - accuracy: 0.9040 - val_loss: 0.3020 - val_accuracy: 0.9375\n",
            "Epoch 22/35\n",
            "4/4 [==============================] - 0s 22ms/step - loss: 0.3162 - accuracy: 0.8960 - val_loss: 0.2986 - val_accuracy: 0.9375\n",
            "Epoch 23/35\n",
            "4/4 [==============================] - 0s 22ms/step - loss: 0.3105 - accuracy: 0.9120 - val_loss: 0.2946 - val_accuracy: 0.9375\n",
            "Epoch 24/35\n",
            "4/4 [==============================] - 0s 21ms/step - loss: 0.2914 - accuracy: 0.9040 - val_loss: 0.2939 - val_accuracy: 0.9375\n",
            "Epoch 25/35\n",
            "4/4 [==============================] - 0s 22ms/step - loss: 0.2770 - accuracy: 0.9200 - val_loss: 0.2952 - val_accuracy: 0.9375\n",
            "Epoch 26/35\n",
            "4/4 [==============================] - 0s 20ms/step - loss: 0.2558 - accuracy: 0.9200 - val_loss: 0.2945 - val_accuracy: 0.9375\n",
            "Epoch 27/35\n",
            "4/4 [==============================] - 0s 21ms/step - loss: 0.2452 - accuracy: 0.9200 - val_loss: 0.2954 - val_accuracy: 0.9375\n",
            "Epoch 28/35\n",
            "4/4 [==============================] - 0s 29ms/step - loss: 0.2306 - accuracy: 0.9360 - val_loss: 0.2976 - val_accuracy: 0.9375\n",
            "Epoch 29/35\n",
            "4/4 [==============================] - 0s 22ms/step - loss: 0.2216 - accuracy: 0.9440 - val_loss: 0.3006 - val_accuracy: 0.9375\n",
            "Epoch 30/35\n",
            "4/4 [==============================] - 0s 29ms/step - loss: 0.2123 - accuracy: 0.9600 - val_loss: 0.2991 - val_accuracy: 0.9375\n",
            "Epoch 31/35\n",
            "4/4 [==============================] - 0s 24ms/step - loss: 0.2018 - accuracy: 0.9600 - val_loss: 0.3023 - val_accuracy: 0.9375\n",
            "Epoch 32/35\n",
            "4/4 [==============================] - 0s 24ms/step - loss: 0.1899 - accuracy: 0.9600 - val_loss: 0.3045 - val_accuracy: 0.9375\n",
            "Epoch 33/35\n",
            "4/4 [==============================] - 0s 22ms/step - loss: 0.1761 - accuracy: 0.9600 - val_loss: 0.3079 - val_accuracy: 0.9375\n",
            "Epoch 34/35\n",
            "4/4 [==============================] - 0s 20ms/step - loss: 0.1731 - accuracy: 0.9680 - val_loss: 0.3038 - val_accuracy: 0.9375\n",
            "Epoch 35/35\n",
            "4/4 [==============================] - 0s 36ms/step - loss: 0.1595 - accuracy: 0.9680 - val_loss: 0.2985 - val_accuracy: 0.9062\n"
          ]
        },
        {
          "output_type": "execute_result",
          "data": {
            "text/plain": [
              "<keras.callbacks.History at 0x7f8c9c5c4050>"
            ]
          },
          "metadata": {},
          "execution_count": 208
        }
      ]
    },
    {
      "cell_type": "code",
      "source": [
        "import sklearn.metrics as metrics\n",
        "\n",
        "predictions = model.predict(X_test)\n",
        "class_labels = [ 'STRAIGHT', 'BUMP', 'LEFT',  'RIGHT','STOP']\n",
        "max_test = np.argmax(y_test, axis=1)\n",
        "max_predictions = np.argmax(predictions, axis=1)\n",
        "confusion_matrix = metrics.confusion_matrix(max_test, max_predictions)\n",
        "\n",
        "sns.heatmap(confusion_matrix, xticklabels = class_labels, yticklabels = class_labels, annot = True, linewidths = 0.1, fmt='d', cmap = 'YlGnBu')\n",
        "plt.title(\"Confusion matrix\", fontsize = 15)\n",
        "plt.ylabel('True label')\n",
        "plt.xlabel('Predicted label')\n",
        "plt.show()"
      ],
      "metadata": {
        "colab": {
          "base_uri": "https://localhost:8080/",
          "height": 315
        },
        "id": "g2f1jLsvifWZ",
        "outputId": "b8ebd9b0-e3f0-4d33-8ff0-65e2a3962b61"
      },
      "execution_count": 209,
      "outputs": [
        {
          "output_type": "stream",
          "name": "stdout",
          "text": [
            "1/1 [==============================] - 1s 872ms/step\n"
          ]
        },
        {
          "output_type": "display_data",
          "data": {
            "text/plain": [
              "<Figure size 432x288 with 2 Axes>"
            ],
            "image/png": "[encoded data removed]"
          },
          "metadata": {
            "needs_background": "light"
          }
        }
      ]
    },
    {
      "cell_type": "code",
      "source": [
        "loss, accuracy = model.evaluate(X_test, y_test, batch_size = batch_size, verbose = 1)\n",
        "print(\"Test Accuracy :\", accuracy)\n",
        "print(\"Test Loss :\", loss) "
      ],
      "metadata": {
        "colab": {
          "base_uri": "https://localhost:8080/"
        },
        "id": "ptYyfzOWkgFd",
        "outputId": "d373acb0-2000-452d-fe53-58502d9942ce"
      },
      "execution_count": 210,
      "outputs": [
        {
          "output_type": "stream",
          "name": "stdout",
          "text": [
            "1/1 [==============================] - 0s 23ms/step - loss: 0.2985 - accuracy: 0.9062\n",
            "Test Accuracy : 0.90625\n",
            "Test Loss : 0.29850178956985474\n"
          ]
        }
      ]
    }
  ]
}